{
 "cells": [
  {
   "cell_type": "code",
   "execution_count": 1,
   "metadata": {},
   "outputs": [],
   "source": [
    "import numpy as np\n",
    "import pandas as pd\n",
    "import matplotlib.pyplot as plt\n",
    "import seaborn as sns"
   ]
  },
  {
   "cell_type": "code",
   "execution_count": 2,
   "metadata": {},
   "outputs": [
    {
     "data": {
      "text/html": [
       "<div>\n",
       "<style scoped>\n",
       "    .dataframe tbody tr th:only-of-type {\n",
       "        vertical-align: middle;\n",
       "    }\n",
       "\n",
       "    .dataframe tbody tr th {\n",
       "        vertical-align: top;\n",
       "    }\n",
       "\n",
       "    .dataframe thead th {\n",
       "        text-align: right;\n",
       "    }\n",
       "</style>\n",
       "<table border=\"1\" class=\"dataframe\">\n",
       "  <thead>\n",
       "    <tr style=\"text-align: right;\">\n",
       "      <th></th>\n",
       "      <th>0</th>\n",
       "      <th>1</th>\n",
       "      <th>2</th>\n",
       "      <th>3</th>\n",
       "      <th>4</th>\n",
       "      <th>5</th>\n",
       "      <th>6</th>\n",
       "      <th>7</th>\n",
       "      <th>8</th>\n",
       "      <th>9</th>\n",
       "      <th>10</th>\n",
       "      <th>11</th>\n",
       "      <th>12</th>\n",
       "      <th>13</th>\n",
       "    </tr>\n",
       "  </thead>\n",
       "  <tbody>\n",
       "    <tr>\n",
       "      <th>0</th>\n",
       "      <td>63</td>\n",
       "      <td>1</td>\n",
       "      <td>1</td>\n",
       "      <td>145</td>\n",
       "      <td>233</td>\n",
       "      <td>1</td>\n",
       "      <td>2</td>\n",
       "      <td>150</td>\n",
       "      <td>0</td>\n",
       "      <td>2.3</td>\n",
       "      <td>3</td>\n",
       "      <td>0.0</td>\n",
       "      <td>6.0</td>\n",
       "      <td>0</td>\n",
       "    </tr>\n",
       "    <tr>\n",
       "      <th>1</th>\n",
       "      <td>67</td>\n",
       "      <td>1</td>\n",
       "      <td>4</td>\n",
       "      <td>160</td>\n",
       "      <td>286</td>\n",
       "      <td>0</td>\n",
       "      <td>2</td>\n",
       "      <td>108</td>\n",
       "      <td>1</td>\n",
       "      <td>1.5</td>\n",
       "      <td>2</td>\n",
       "      <td>3.0</td>\n",
       "      <td>3.0</td>\n",
       "      <td>2</td>\n",
       "    </tr>\n",
       "    <tr>\n",
       "      <th>2</th>\n",
       "      <td>67</td>\n",
       "      <td>1</td>\n",
       "      <td>4</td>\n",
       "      <td>120</td>\n",
       "      <td>229</td>\n",
       "      <td>0</td>\n",
       "      <td>2</td>\n",
       "      <td>129</td>\n",
       "      <td>1</td>\n",
       "      <td>2.6</td>\n",
       "      <td>2</td>\n",
       "      <td>2.0</td>\n",
       "      <td>7.0</td>\n",
       "      <td>1</td>\n",
       "    </tr>\n",
       "    <tr>\n",
       "      <th>3</th>\n",
       "      <td>37</td>\n",
       "      <td>1</td>\n",
       "      <td>3</td>\n",
       "      <td>130</td>\n",
       "      <td>250</td>\n",
       "      <td>0</td>\n",
       "      <td>0</td>\n",
       "      <td>187</td>\n",
       "      <td>0</td>\n",
       "      <td>3.5</td>\n",
       "      <td>3</td>\n",
       "      <td>0.0</td>\n",
       "      <td>3.0</td>\n",
       "      <td>0</td>\n",
       "    </tr>\n",
       "    <tr>\n",
       "      <th>4</th>\n",
       "      <td>41</td>\n",
       "      <td>0</td>\n",
       "      <td>2</td>\n",
       "      <td>130</td>\n",
       "      <td>204</td>\n",
       "      <td>0</td>\n",
       "      <td>2</td>\n",
       "      <td>172</td>\n",
       "      <td>0</td>\n",
       "      <td>1.4</td>\n",
       "      <td>1</td>\n",
       "      <td>0.0</td>\n",
       "      <td>3.0</td>\n",
       "      <td>0</td>\n",
       "    </tr>\n",
       "  </tbody>\n",
       "</table>\n",
       "</div>"
      ],
      "text/plain": [
       "   0   1   2    3    4   5   6    7   8    9   10   11   12  13\n",
       "0  63   1   1  145  233   1   2  150   0  2.3   3  0.0  6.0   0\n",
       "1  67   1   4  160  286   0   2  108   1  1.5   2  3.0  3.0   2\n",
       "2  67   1   4  120  229   0   2  129   1  2.6   2  2.0  7.0   1\n",
       "3  37   1   3  130  250   0   0  187   0  3.5   3  0.0  3.0   0\n",
       "4  41   0   2  130  204   0   2  172   0  1.4   1  0.0  3.0   0"
      ]
     },
     "execution_count": 2,
     "metadata": {},
     "output_type": "execute_result"
    }
   ],
   "source": [
    "# bai tap 1\n",
    "df = pd.read_csv('data/cleveland.csv', header = None )\n",
    "df.head()"
   ]
  },
  {
   "cell_type": "code",
   "execution_count": 3,
   "metadata": {},
   "outputs": [],
   "source": [
    "df.columns = ['age', 'sex', 'cp', 'trestbps', 'chol', \n",
    "              'fbs', 'restecg', 'thalach', 'exang', \n",
    "              'oldpeak', 'slope', 'ca', 'thal', 'target']\n",
    "\n",
    "df['target'] = df['target'].map({0: 0, 1: 1, 2: 1, 3: 1, 4: 1})\n",
    "df['thal'] = df['thal'].fillna(df['thal'].mean())\n",
    "df['ca'] = df['ca'].fillna(df['ca'].mean())\n"
   ]
  },
  {
   "cell_type": "code",
   "execution_count": 4,
   "metadata": {},
   "outputs": [
    {
     "data": {
      "text/html": [
       "<div>\n",
       "<style scoped>\n",
       "    .dataframe tbody tr th:only-of-type {\n",
       "        vertical-align: middle;\n",
       "    }\n",
       "\n",
       "    .dataframe tbody tr th {\n",
       "        vertical-align: top;\n",
       "    }\n",
       "\n",
       "    .dataframe thead th {\n",
       "        text-align: right;\n",
       "    }\n",
       "</style>\n",
       "<table border=\"1\" class=\"dataframe\">\n",
       "  <thead>\n",
       "    <tr style=\"text-align: right;\">\n",
       "      <th></th>\n",
       "      <th>age</th>\n",
       "      <th>sex</th>\n",
       "      <th>cp</th>\n",
       "      <th>trestbps</th>\n",
       "      <th>chol</th>\n",
       "      <th>fbs</th>\n",
       "      <th>restecg</th>\n",
       "      <th>thalach</th>\n",
       "      <th>exang</th>\n",
       "      <th>oldpeak</th>\n",
       "      <th>slope</th>\n",
       "      <th>ca</th>\n",
       "      <th>thal</th>\n",
       "      <th>target</th>\n",
       "    </tr>\n",
       "  </thead>\n",
       "  <tbody>\n",
       "    <tr>\n",
       "      <th>0</th>\n",
       "      <td>63</td>\n",
       "      <td>1</td>\n",
       "      <td>1</td>\n",
       "      <td>145</td>\n",
       "      <td>233</td>\n",
       "      <td>1</td>\n",
       "      <td>2</td>\n",
       "      <td>150</td>\n",
       "      <td>0</td>\n",
       "      <td>2.3</td>\n",
       "      <td>3</td>\n",
       "      <td>0.0</td>\n",
       "      <td>6.0</td>\n",
       "      <td>0</td>\n",
       "    </tr>\n",
       "    <tr>\n",
       "      <th>1</th>\n",
       "      <td>67</td>\n",
       "      <td>1</td>\n",
       "      <td>4</td>\n",
       "      <td>160</td>\n",
       "      <td>286</td>\n",
       "      <td>0</td>\n",
       "      <td>2</td>\n",
       "      <td>108</td>\n",
       "      <td>1</td>\n",
       "      <td>1.5</td>\n",
       "      <td>2</td>\n",
       "      <td>3.0</td>\n",
       "      <td>3.0</td>\n",
       "      <td>1</td>\n",
       "    </tr>\n",
       "    <tr>\n",
       "      <th>2</th>\n",
       "      <td>67</td>\n",
       "      <td>1</td>\n",
       "      <td>4</td>\n",
       "      <td>120</td>\n",
       "      <td>229</td>\n",
       "      <td>0</td>\n",
       "      <td>2</td>\n",
       "      <td>129</td>\n",
       "      <td>1</td>\n",
       "      <td>2.6</td>\n",
       "      <td>2</td>\n",
       "      <td>2.0</td>\n",
       "      <td>7.0</td>\n",
       "      <td>1</td>\n",
       "    </tr>\n",
       "    <tr>\n",
       "      <th>3</th>\n",
       "      <td>37</td>\n",
       "      <td>1</td>\n",
       "      <td>3</td>\n",
       "      <td>130</td>\n",
       "      <td>250</td>\n",
       "      <td>0</td>\n",
       "      <td>0</td>\n",
       "      <td>187</td>\n",
       "      <td>0</td>\n",
       "      <td>3.5</td>\n",
       "      <td>3</td>\n",
       "      <td>0.0</td>\n",
       "      <td>3.0</td>\n",
       "      <td>0</td>\n",
       "    </tr>\n",
       "    <tr>\n",
       "      <th>4</th>\n",
       "      <td>41</td>\n",
       "      <td>0</td>\n",
       "      <td>2</td>\n",
       "      <td>130</td>\n",
       "      <td>204</td>\n",
       "      <td>0</td>\n",
       "      <td>2</td>\n",
       "      <td>172</td>\n",
       "      <td>0</td>\n",
       "      <td>1.4</td>\n",
       "      <td>1</td>\n",
       "      <td>0.0</td>\n",
       "      <td>3.0</td>\n",
       "      <td>0</td>\n",
       "    </tr>\n",
       "  </tbody>\n",
       "</table>\n",
       "</div>"
      ],
      "text/plain": [
       "   age  sex  cp  trestbps  chol  fbs  ...  exang  oldpeak  slope   ca  thal  target\n",
       "0   63    1   1       145   233    1  ...      0      2.3      3  0.0   6.0       0\n",
       "1   67    1   4       160   286    0  ...      1      1.5      2  3.0   3.0       1\n",
       "2   67    1   4       120   229    0  ...      1      2.6      2  2.0   7.0       1\n",
       "3   37    1   3       130   250    0  ...      0      3.5      3  0.0   3.0       0\n",
       "4   41    0   2       130   204    0  ...      0      1.4      1  0.0   3.0       0\n",
       "\n",
       "[5 rows x 14 columns]"
      ]
     },
     "execution_count": 4,
     "metadata": {},
     "output_type": "execute_result"
    }
   ],
   "source": [
    "df.head()"
   ]
  },
  {
   "cell_type": "code",
   "execution_count": 5,
   "metadata": {},
   "outputs": [
    {
     "data": {
      "image/png": "[encoded data removed]",
      "text/plain": [
       "<Figure size 1000x600 with 1 Axes>"
      ]
     },
     "metadata": {},
     "output_type": "display_data"
    }
   ],
   "source": [
    "plt.figure(figsize=(10, 6))\n",
    "sns.histplot(data=df, x='age', hue='target', multiple='stack')\n",
    "plt.title('Age Distribution by Heart Disease')\n",
    "plt.xlabel('Age')\n",
    "plt.ylabel('Count')\n",
    "plt.show()"
   ]
  },
  {
   "cell_type": "code",
   "execution_count": 6,
   "metadata": {},
   "outputs": [
    {
     "data": {
      "image/png": "[encoded data removed]",
      "text/plain": [
       "<Figure size 1000x600 with 1 Axes>"
      ]
     },
     "metadata": {},
     "output_type": "display_data"
    }
   ],
   "source": [
    "plt.figure(figsize=(10, 6))\n",
    "sns.histplot(data=df, x='age', hue='target', multiple='dodge', kde=False)\n",
    "plt.title('Age Distribution by Heart Disease')\n",
    "plt.xlabel('Age')\n",
    "plt.ylabel('Count')\n",
    "plt.show()"
   ]
  },
  {
   "cell_type": "code",
   "execution_count": 7,
   "metadata": {},
   "outputs": [
    {
     "data": {
      "image/png": "[encoded data removed]",
      "text/plain": [
       "<Figure size 800x600 with 1 Axes>"
      ]
     },
     "metadata": {},
     "output_type": "display_data"
    }
   ],
   "source": [
    "plt.figure(figsize=(8, 6))\n",
    "sns.barplot(x='sex', y='age', hue='target', data=df, errorbar=None)\n",
    "plt.title('Average Age and Sex by Heart Disease')\n",
    "plt.xlabel('Sex')\n",
    "plt.ylabel('Average Age')\n",
    "plt.show()"
   ]
  },
  {
   "cell_type": "code",
   "execution_count": 8,
   "metadata": {},
   "outputs": [],
   "source": [
    "from sklearn.model_selection import train_test_split\n",
    "\n",
    "# Lấy các giá trị X và y từ DataFrame\n",
    "X = df.iloc[:, :-1].values\n",
    "y = df.iloc[:, -1].values\n",
    "\n",
    "# Chia dữ liệu thành tập train và test\n",
    "X_train, X_test, y_train, y_test = train_test_split(X, y, test_size=0.2, random_state=42)\n"
   ]
  },
  {
   "cell_type": "code",
   "execution_count": 9,
   "metadata": {},
   "outputs": [],
   "source": [
    "from sklearn.neighbors import KNeighborsClassifier\n",
    "KNN = KNeighborsClassifier(n_neighbors=5,\n",
    "weights='uniform', algorithm='auto', leaf_size=30, p=2, metric='minkowski')\n",
    "KNN.fit(X_train,y_train)\n",
    "\n",
    "y_predict = KNN.predict(X_test)\n",
    "\n"
   ]
  },
  {
   "cell_type": "code",
   "execution_count": 11,
   "metadata": {},
   "outputs": [],
   "source": [
    "from sklearn.metrics import confusion_matrix\n",
    "cm_test = confusion_matrix(y_predict, y_test)\n",
    "\n",
    "y_predict_train = KNN.predict(X_train)\n",
    "cm_train = confusion_matrix(y_predict_train, y_train)"
   ]
  },
  {
   "cell_type": "code",
   "execution_count": 12,
   "metadata": {},
   "outputs": [
    {
     "name": "stdout",
     "output_type": "stream",
     "text": [
      "Accuracy for training set for KNeighborsClassifier = 0.76\n",
      "Accuracy for test set for KNeighborsClassifier = 0.69\n"
     ]
    }
   ],
   "source": [
    "accuracy_for_train = np.round((cm_train[0][0] + cm_train[1][1]) / len(y_train), 2)\n",
    "accuracy_for_test = np.round((cm_test[0][0] + cm_test[1][1]) / len(y_test), 2)\n",
    "\n",
    "print('Accuracy for training set for KNeighborsClassifier = {}'.format(accuracy_for_train))\n",
    "print('Accuracy for test set for KNeighborsClassifier = {}'.format(accuracy_for_test))\n"
   ]
  },
  {
   "cell_type": "code",
   "execution_count": 21,
   "metadata": {},
   "outputs": [],
   "source": [
    "# Bài tập 4: SVM\n",
    "from sklearn import svm\n",
    "SVM = svm.SVC(kernel = 'rbf', random_state=42)\n",
    "SVM.fit(X_train,y_train)\n",
    "\n",
    "y_predict = SVM.predict(X_test)\n",
    "cm_test = confusion_matrix(y_predict, y_test)\n",
    "\n",
    "y_predict_train = SVM.predict(X_train)\n",
    "cm_train = confusion_matrix(y_predict_train, y_train)"
   ]
  },
  {
   "cell_type": "code",
   "execution_count": 22,
   "metadata": {},
   "outputs": [
    {
     "name": "stdout",
     "output_type": "stream",
     "text": [
      "Accuracy for training set for SVM = 0.66\n",
      "Accuracy for test set for SVM = 0.67\n"
     ]
    }
   ],
   "source": [
    "accuracy_for_train = np.round((cm_train[0][0] + cm_train[1][1]) / len(y_train), 2)\n",
    "accuracy_for_test = np.round((cm_test[0][0] + cm_test[1][1]) / len(y_test), 2)\n",
    "\n",
    "print('Accuracy for training set for SVM = {}'.format(accuracy_for_train))\n",
    "print('Accuracy for test set for SVM = {}'.format(accuracy_for_test))"
   ]
  },
  {
   "cell_type": "code",
   "execution_count": 26,
   "metadata": {},
   "outputs": [],
   "source": [
    "# Bài tập 5: Naive Bayes\n",
    "from sklearn.naive_bayes import GaussianNB\n",
    "\n",
    "NB = GaussianNB()\n",
    "NB.fit(X_train, y_train)\n",
    "\n",
    "y_predict = NB.predict(X_test)\n",
    "cm_test = confusion_matrix(y_predict, y_test)\n",
    "\n",
    "y_predict_train = NB.predict(X_train)\n",
    "cm_train = confusion_matrix(y_predict_train, y_train)"
   ]
  },
  {
   "cell_type": "code",
   "execution_count": 27,
   "metadata": {},
   "outputs": [
    {
     "name": "stdout",
     "output_type": "stream",
     "text": [
      "Accuracy for training set for Naives Bayes = 0.85\n",
      "Accuracy for test set for Naives Bayes = 0.84\n"
     ]
    }
   ],
   "source": [
    "accuracy_for_train = np.round((cm_train[0][0] + cm_train[1][1]) / len(y_train), 2)\n",
    "accuracy_for_test = np.round((cm_test[0][0] + cm_test[1][1]) / len(y_test), 2)\n",
    "\n",
    "print('Accuracy for training set for Naives Bayes = {}'.format(accuracy_for_train))\n",
    "print('Accuracy for test set for Naives Bayes = {}'.format(accuracy_for_test))"
   ]
  },
  {
   "cell_type": "code",
   "execution_count": 28,
   "metadata": {},
   "outputs": [],
   "source": [
    "# Bài tập 6: Decision Tree\n",
    "from sklearn.tree import DecisionTreeClassifier\n",
    "\n",
    "DT = DecisionTreeClassifier(criterion='gini', max_depth=10, min_samples_split=2)\n",
    "DT.fit(X_train, y_train)\n",
    "\n",
    "y_predict = DT.predict(X_test)\n",
    "cm_test = confusion_matrix(y_predict, y_test)\n",
    "\n",
    "y_predict_train = DT.predict(X_train)\n",
    "cm_train = confusion_matrix(y_predict_train, y_train)"
   ]
  },
  {
   "cell_type": "code",
   "execution_count": 29,
   "metadata": {},
   "outputs": [
    {
     "name": "stdout",
     "output_type": "stream",
     "text": [
      "Accuracy for training set for Decision Tree= 1.0\n",
      "Accuracy for test set for Decision Tree = 0.75\n"
     ]
    }
   ],
   "source": [
    "accuracy_for_train = np.round((cm_train[0][0] + cm_train[1][1]) / len(y_train), 2)\n",
    "accuracy_for_test = np.round((cm_test[0][0] + cm_test[1][1]) / len(y_test), 2)\n",
    "\n",
    "print('Accuracy for training set for Decision Tree= {}'.format(accuracy_for_train))\n",
    "print('Accuracy for test set for Decision Tree = {}'.format(accuracy_for_test))"
   ]
  },
  {
   "cell_type": "code",
   "execution_count": 30,
   "metadata": {},
   "outputs": [],
   "source": [
    "# Bài tập 7: Random Forest\n",
    "from sklearn.ensemble import RandomForestClassifier\n",
    "\n",
    "RF = RandomForestClassifier(criterion='gini', max_depth=10, min_samples_split=2, n_estimators=10, random_state=42)\n",
    "RF.fit(X_train, y_train)\n",
    "\n",
    "y_predict = RF.predict(X_test)\n",
    "cm_test = confusion_matrix(y_predict, y_test)\n",
    "\n",
    "y_predict_train = RF.predict(X_train)\n",
    "cm_train = confusion_matrix(y_predict_train, y_train)"
   ]
  },
  {
   "cell_type": "code",
   "execution_count": 31,
   "metadata": {},
   "outputs": [
    {
     "name": "stdout",
     "output_type": "stream",
     "text": [
      "Accuracy for training set for Random Tree= 0.98\n",
      "Accuracy for test set for Random Tree = 0.8\n"
     ]
    }
   ],
   "source": [
    "accuracy_for_train = np.round((cm_train[0][0] + cm_train[1][1]) / len(y_train), 2)\n",
    "accuracy_for_test = np.round((cm_test[0][0] + cm_test[1][1]) / len(y_test), 2)\n",
    "\n",
    "print('Accuracy for training set for Random Tree= {}'.format(accuracy_for_train))\n",
    "print('Accuracy for test set for Random Tree = {}'.format(accuracy_for_test))"
   ]
  },
  {
   "cell_type": "code",
   "execution_count": 32,
   "metadata": {},
   "outputs": [
    {
     "name": "stdout",
     "output_type": "stream",
     "text": [
      "Accuracy for training set for Adaboost = 0.91\n",
      "Accuracy for test set for Adaboost = 0.84\n"
     ]
    },
    {
     "name": "stderr",
     "output_type": "stream",
     "text": [
      "/media/tan/F/AIO_project/Heart_desease_prediction/env/lib/python3.10/site-packages/sklearn/ensemble/_weight_boosting.py:527: FutureWarning: The SAMME.R algorithm (the default) is deprecated and will be removed in 1.6. Use the SAMME algorithm to circumvent this warning.\n",
      "  warnings.warn(\n"
     ]
    }
   ],
   "source": [
    "# bài tập 8: Adaboost\n",
    "from sklearn.ensemble import AdaBoostClassifier\n",
    "\n",
    "Ada = AdaBoostClassifier(n_estimators=50, learning_rate=1.0)\n",
    "Ada.fit(X_train, y_train)\n",
    "\n",
    "y_predict = Ada.predict(X_test)\n",
    "cm_test = confusion_matrix(y_predict, y_test)\n",
    "\n",
    "y_predict_train = Ada.predict(X_train)\n",
    "cm_train = confusion_matrix(y_predict_train, y_train)\n",
    "\n",
    "accuracy_for_train = np.round((cm_train[0][0] + cm_train[1][1]) / len(y_train), 2)\n",
    "accuracy_for_test = np.round((cm_test[0][0] + cm_test[1][1]) / len(y_test), 2)\n",
    "\n",
    "print('Accuracy for training set for Adaboost = {}'.format(accuracy_for_train))\n",
    "print('Accuracy for test set for Adaboost = {}'.format(accuracy_for_test))"
   ]
  },
  {
   "cell_type": "code",
   "execution_count": 33,
   "metadata": {},
   "outputs": [
    {
     "name": "stdout",
     "output_type": "stream",
     "text": [
      "Accuracy for training set for GradientBoost = 1.0\n",
      "Accuracy for test set for GradientBoost = 0.85\n"
     ]
    }
   ],
   "source": [
    "# bài tập 9: GradientBoost\n",
    "from sklearn.ensemble import GradientBoostingClassifier\n",
    "\n",
    "GB = GradientBoostingClassifier(learning_rate=0.1, n_estimators=100, subsample=1.0, min_samples_split=2, max_depth=3,\n",
    "random_state=42)\n",
    "GB.fit(X_train, y_train)\n",
    "\n",
    "y_predict = GB.predict(X_test)\n",
    "cm_test = confusion_matrix(y_predict, y_test)\n",
    "\n",
    "y_predict_train = GB.predict(X_train)\n",
    "cm_train = confusion_matrix(y_predict_train, y_train)\n",
    "\n",
    "accuracy_for_train = np.round((cm_train[0][0] + cm_train[1][1]) / len(y_train), 2)\n",
    "accuracy_for_test = np.round((cm_test[0][0] + cm_test[1][1]) / len(y_test), 2)\n",
    "\n",
    "print('Accuracy for training set for GradientBoost = {}'.format(accuracy_for_train))\n",
    "print('Accuracy for test set for GradientBoost = {}'.format(accuracy_for_test))"
   ]
  },
  {
   "cell_type": "code",
   "execution_count": 36,
   "metadata": {},
   "outputs": [
    {
     "name": "stdout",
     "output_type": "stream",
     "text": [
      "Accuracy for training set for XGBoost = 1.0\n",
      "Accuracy for test set for XGBoost = 0.87\n"
     ]
    }
   ],
   "source": [
    "# bài tập 10: XGBoost\n",
    "from xgboost import XGBClassifier\n",
    "\n",
    "XGB = XGBClassifier(objective=\"binary:logistic\", random_state=42, n_estimators = 100)\n",
    "XGB.fit(X_train, y_train)\n",
    "\n",
    "y_predict = XGB.predict(X_test)\n",
    "cm_test = confusion_matrix(y_predict, y_test)\n",
    "\n",
    "y_predict_train = XGB.predict(X_train)\n",
    "cm_train = confusion_matrix(y_predict_train, y_train)\n",
    "\n",
    "accuracy_for_train = np.round((cm_train[0][0] + cm_train[1][1]) / len(y_train), 2)\n",
    "accuracy_for_test = np.round((cm_test[0][0] + cm_test[1][1]) / len(y_test), 2)\n",
    "\n",
    "print('Accuracy for training set for XGBoost = {}'.format(accuracy_for_train))\n",
    "print('Accuracy for test set for XGBoost = {}'.format(accuracy_for_test))"
   ]
  },
  {
   "cell_type": "code",
   "execution_count": 37,
   "metadata": {},
   "outputs": [
    {
     "name": "stderr",
     "output_type": "stream",
     "text": [
      "/media/tan/F/AIO_project/Heart_desease_prediction/env/lib/python3.10/site-packages/sklearn/ensemble/_weight_boosting.py:527: FutureWarning: The SAMME.R algorithm (the default) is deprecated and will be removed in 1.6. Use the SAMME algorithm to circumvent this warning.\n",
      "  warnings.warn(\n",
      "/media/tan/F/AIO_project/Heart_desease_prediction/env/lib/python3.10/site-packages/sklearn/ensemble/_weight_boosting.py:527: FutureWarning: The SAMME.R algorithm (the default) is deprecated and will be removed in 1.6. Use the SAMME algorithm to circumvent this warning.\n",
      "  warnings.warn(\n",
      "/media/tan/F/AIO_project/Heart_desease_prediction/env/lib/python3.10/site-packages/sklearn/ensemble/_weight_boosting.py:527: FutureWarning: The SAMME.R algorithm (the default) is deprecated and will be removed in 1.6. Use the SAMME algorithm to circumvent this warning.\n",
      "  warnings.warn(\n",
      "/media/tan/F/AIO_project/Heart_desease_prediction/env/lib/python3.10/site-packages/sklearn/ensemble/_weight_boosting.py:527: FutureWarning: The SAMME.R algorithm (the default) is deprecated and will be removed in 1.6. Use the SAMME algorithm to circumvent this warning.\n",
      "  warnings.warn(\n",
      "/media/tan/F/AIO_project/Heart_desease_prediction/env/lib/python3.10/site-packages/sklearn/ensemble/_weight_boosting.py:527: FutureWarning: The SAMME.R algorithm (the default) is deprecated and will be removed in 1.6. Use the SAMME algorithm to circumvent this warning.\n",
      "  warnings.warn(\n",
      "/media/tan/F/AIO_project/Heart_desease_prediction/env/lib/python3.10/site-packages/sklearn/ensemble/_weight_boosting.py:527: FutureWarning: The SAMME.R algorithm (the default) is deprecated and will be removed in 1.6. Use the SAMME algorithm to circumvent this warning.\n",
      "  warnings.warn(\n"
     ]
    },
    {
     "name": "stdout",
     "output_type": "stream",
     "text": [
      "Accuracy for training set for Stacking = 0.92\n",
      "Accuracy for test set for Stacking = 0.9\n"
     ]
    }
   ],
   "source": [
    "# Bài tạp 11: Stacking\n",
    "from sklearn.tree import DecisionTreeClassifier\n",
    "from sklearn.ensemble import RandomForestClassifier, GradientBoostingClassifier, AdaBoostClassifier\n",
    "from sklearn.neighbors import KNeighborsClassifier\n",
    "from sklearn.svm import SVC\n",
    "from xgboost import XGBClassifier\n",
    "\n",
    "# Khởi tạo các mô hình với random_state để đảm bảo tái lập kết quả\n",
    "dtc = DecisionTreeClassifier(random_state=42)\n",
    "rfc = RandomForestClassifier(random_state=42)\n",
    "knn = KNeighborsClassifier()\n",
    "xgb = XGBClassifier()  # Đã sửa lại cú pháp đúng\n",
    "gc = GradientBoostingClassifier(random_state=42)\n",
    "svc = SVC(kernel='rbf', random_state=42)\n",
    "ad = AdaBoostClassifier(random_state=42)\n",
    "\n",
    "from sklearn.ensemble import StackingClassifier\n",
    "\n",
    "clf = [('dtc', dtc),('rfc', rfc),('knn', knn),('gc', gc),('ad', ad),('svc', svc)]\n",
    "Stacking = StackingClassifier( estimators = clf, final_estimator=xgb)\n",
    "\n",
    "\n",
    "Stacking.fit(X_train, y_train)\n",
    "\n",
    "y_predict = Stacking.predict(X_test)\n",
    "cm_test = confusion_matrix(y_predict, y_test)\n",
    "\n",
    "y_predict_train = Stacking.predict(X_train)\n",
    "cm_train = confusion_matrix(y_predict_train, y_train)\n",
    "\n",
    "accuracy_for_train = np.round((cm_train[0][0] + cm_train[1][1]) / len(y_train), 2)\n",
    "accuracy_for_test = np.round((cm_test[0][0] + cm_test[1][1]) / len(y_test), 2)\n",
    "\n",
    "print('Accuracy for training set for Stacking = {}'.format(accuracy_for_train))\n",
    "print('Accuracy for test set for Stacking = {}'.format(accuracy_for_test))"
   ]
  }
 ],
 "metadata": {
  "kernelspec": {
   "display_name": "env",
   "language": "python",
   "name": "python3"
  },
  "language_info": {
   "codemirror_mode": {
    "name": "ipython",
    "version": 3
   },
   "file_extension": ".py",
   "mimetype": "text/x-python",
   "name": "python",
   "nbconvert_exporter": "python",
   "pygments_lexer": "ipython3",
   "version": "3.10.12"
  }
 },
 "nbformat": 4,
 "nbformat_minor": 2
}
